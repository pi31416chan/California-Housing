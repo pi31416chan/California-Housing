{
 "cells": [
  {
   "cell_type": "markdown",
   "id": "7f64ab00-cc9b-4e47-a50c-1264b0e1e8ea",
   "metadata": {},
   "source": [
    "# California Housing Wide & Deep MLP"
   ]
  },
  {
   "cell_type": "markdown",
   "id": "4d7416f7-b4c7-42ee-9aac-b2fe92f6788f",
   "metadata": {},
   "source": [
    "## Imports"
   ]
  },
  {
   "cell_type": "code",
   "execution_count": 72,
   "id": "8ad6846e-a135-49e1-a1b8-e17cc5967e03",
   "metadata": {},
   "outputs": [],
   "source": [
    "import numpy as np\n",
    "import pandas as pd\n",
    "import tensorflow as tf\n",
    "from tensorflow import keras\n",
    "import matplotlib.pyplot as plt\n",
    "%matplotlib inline\n",
    "import joblib\n",
    "from sklearn.metrics import r2_score\n",
    "from mltoolkit.neural_networks import nn_learning_curve\n",
    "from mltoolkit.utils import dump_keras_model,dump_csv"
   ]
  },
  {
   "cell_type": "markdown",
   "id": "b5593db7-48f6-49f1-9183-e7f7c16ca82f",
   "metadata": {},
   "source": [
    "## Loading the Datasets"
   ]
  },
  {
   "cell_type": "code",
   "execution_count": 6,
   "id": "488fed30-51c0-4027-8190-7f770af5ec8c",
   "metadata": {},
   "outputs": [],
   "source": [
    "X_train = np.loadtxt(\"Datasets\\\\Raw Data\\\\X_train.csv\",delimiter=',',skiprows=1)\n",
    "X_valid = np.loadtxt(\"Datasets\\\\Raw Data\\\\X_valid.csv\",delimiter=',',skiprows=1)\n",
    "X_test = np.loadtxt(\"Datasets\\\\Raw Data\\\\X_test.csv\",delimiter=',',skiprows=1)\n",
    "y_train = np.loadtxt(\"Datasets\\\\Raw Data\\\\y_train.csv\",delimiter=',',skiprows=1)\n",
    "y_valid = np.loadtxt(\"Datasets\\\\Raw Data\\\\y_valid.csv\",delimiter=',',skiprows=1)\n",
    "y_test = np.loadtxt(\"Datasets\\\\Raw Data\\\\y_test.csv\",delimiter=',',skiprows=1)"
   ]
  },
  {
   "cell_type": "code",
   "execution_count": 8,
   "id": "347e602f-09c7-496d-8318-a8d9c3d3f38f",
   "metadata": {},
   "outputs": [
    {
     "data": {
      "text/plain": [
       "((11610, 8), (3870, 8), (5160, 8), (11610,), (3870,), (5160,))"
      ]
     },
     "execution_count": 8,
     "metadata": {},
     "output_type": "execute_result"
    }
   ],
   "source": [
    "X_train.shape,X_valid.shape,X_test.shape,y_train.shape,y_valid.shape,y_test.shape"
   ]
  },
  {
   "cell_type": "markdown",
   "id": "47fa8336-4e04-4d15-9249-d58ad9bc0b91",
   "metadata": {},
   "source": [
    "## Preparing the Datasets"
   ]
  },
  {
   "cell_type": "code",
   "execution_count": 51,
   "id": "345a934d-ad94-4115-a162-43ee7697e7c4",
   "metadata": {},
   "outputs": [],
   "source": [
    "def split_input(X):\n",
    "    return X[:,:5],X[:,2:]"
   ]
  },
  {
   "cell_type": "markdown",
   "id": "1c00f6c9-f3fa-47b8-87f7-e056b04a7309",
   "metadata": {},
   "source": [
    "Here we split the input dataset X into two parts, one part for Wide and one part for Deep.\\\n",
    "The Deep partition will be passed into the hidden layers to learn deep patterns.\\\n",
    "Wide partition will be directly passed to the output layer.\\\n",
    "Slice A: 0 to 2\\\n",
    "Slice B: 1 to 7"
   ]
  },
  {
   "cell_type": "code",
   "execution_count": 52,
   "id": "a773ab69-e43a-4437-ad92-39b62e981ac0",
   "metadata": {},
   "outputs": [],
   "source": [
    "X_train_a,X_train_b = split_input(X_train)\n",
    "X_valid_a,X_valid_b = split_input(X_valid)\n",
    "X_test_a,X_test_b = split_input(X_test)"
   ]
  },
  {
   "cell_type": "code",
   "execution_count": 74,
   "id": "8d88a06d-997b-49a8-8de9-a2a955dc1d0b",
   "metadata": {},
   "outputs": [],
   "source": [
    "csvab = {\n",
    "    \"X_train_a\":X_train_a,\n",
    "    \"X_train_b\":X_train_b,\n",
    "    \"X_valid_a\":X_valid_a,\n",
    "    \"X_valid_b\":X_valid_b,\n",
    "    \"X_test_a\":X_test_a,\n",
    "    \"X_test_b\":X_test_b,\n",
    "}\n",
    "dump_csv(csvab,\"Datasets\\\\\",index=False,encoding='utf-8')"
   ]
  },
  {
   "cell_type": "markdown",
   "id": "a9c9875a-8c25-44a6-8558-1b0b9af3b57b",
   "metadata": {},
   "source": [
    "## Wide & Deep MLP Model"
   ]
  },
  {
   "cell_type": "markdown",
   "id": "3b82bf5d-2136-42d5-8d58-a0ad064d359a",
   "metadata": {},
   "source": [
    "We will use the architecture as shown in the following image.\n",
    "\n",
    "![Wide & Deep MLP Model](Images\\Wide&Deep_Architecture.png)"
   ]
  },
  {
   "cell_type": "code",
   "execution_count": 61,
   "id": "72956e38-047f-40ee-9f65-a1af2d42eb6e",
   "metadata": {},
   "outputs": [],
   "source": [
    "input_a = keras.layers.Input(shape=X_train_a.shape[1:],name=\"input_a\")\n",
    "input_b = keras.layers.Input(shape=X_train_b.shape[1:],name=\"input_b\")\n",
    "hidden_1 = keras.layers.Dense(30,activation='relu',name='hidden_1')(input_b)\n",
    "hidden_2 = keras.layers.Dense(30,activation='relu',name='hidden_2')(hidden_1)\n",
    "concat = keras.layers.concatenate([input_a,hidden_2],name='concat')\n",
    "output = keras.layers.Dense(1,name='output')(concat)\n",
    "wnd_model = keras.Model(inputs=[input_a,input_b],outputs=[output],name='wnd_model')"
   ]
  },
  {
   "cell_type": "code",
   "execution_count": 62,
   "id": "fd5287c6-3427-4247-b3ec-63b9b66e8473",
   "metadata": {},
   "outputs": [
    {
     "name": "stdout",
     "output_type": "stream",
     "text": [
      "Model: \"wnd_model\"\n",
      "__________________________________________________________________________________________________\n",
      " Layer (type)                   Output Shape         Param #     Connected to                     \n",
      "==================================================================================================\n",
      " input_b (InputLayer)           [(None, 6)]          0           []                               \n",
      "                                                                                                  \n",
      " hidden_1 (Dense)               (None, 30)           210         ['input_b[0][0]']                \n",
      "                                                                                                  \n",
      " input_a (InputLayer)           [(None, 5)]          0           []                               \n",
      "                                                                                                  \n",
      " hidden_2 (Dense)               (None, 30)           930         ['hidden_1[0][0]']               \n",
      "                                                                                                  \n",
      " concat (Concatenate)           (None, 35)           0           ['input_a[0][0]',                \n",
      "                                                                  'hidden_2[0][0]']               \n",
      "                                                                                                  \n",
      " output (Dense)                 (None, 1)            36          ['concat[0][0]']                 \n",
      "                                                                                                  \n",
      "==================================================================================================\n",
      "Total params: 1,176\n",
      "Trainable params: 1,176\n",
      "Non-trainable params: 0\n",
      "__________________________________________________________________________________________________\n"
     ]
    }
   ],
   "source": [
    "wnd_model.summary()"
   ]
  },
  {
   "cell_type": "code",
   "execution_count": 63,
   "id": "cd321b30-7358-4524-b6b8-c96d2ffa4d15",
   "metadata": {},
   "outputs": [],
   "source": [
    "optimizer = keras.optimizers.SGD(learning_rate=0.05)\n",
    "wnd_model.compile(\n",
    "    optimizer=optimizer,\n",
    "    loss='mse'\n",
    ")"
   ]
  },
  {
   "cell_type": "code",
   "execution_count": 64,
   "id": "5388f46d-2f4f-413b-ae07-35d1ef19a02d",
   "metadata": {
    "scrolled": true,
    "tags": []
   },
   "outputs": [
    {
     "name": "stdout",
     "output_type": "stream",
     "text": [
      "Epoch 1/50\n",
      "24/24 [==============================] - 1s 12ms/step - loss: 1.2750 - val_loss: 0.7042\n",
      "Epoch 2/50\n",
      "24/24 [==============================] - 0s 8ms/step - loss: 0.6214 - val_loss: 0.6095\n",
      "Epoch 3/50\n",
      "24/24 [==============================] - 0s 9ms/step - loss: 0.5745 - val_loss: 0.5682\n",
      "Epoch 4/50\n",
      "24/24 [==============================] - 0s 8ms/step - loss: 0.5238 - val_loss: 0.5235\n",
      "Epoch 5/50\n",
      "24/24 [==============================] - 0s 8ms/step - loss: 0.4876 - val_loss: 0.5073\n",
      "Epoch 6/50\n",
      "24/24 [==============================] - 0s 8ms/step - loss: 0.4697 - val_loss: 0.4945\n",
      "Epoch 7/50\n",
      "24/24 [==============================] - 0s 8ms/step - loss: 0.4560 - val_loss: 0.4891\n",
      "Epoch 8/50\n",
      "24/24 [==============================] - 0s 8ms/step - loss: 0.4465 - val_loss: 0.4734\n",
      "Epoch 9/50\n",
      "24/24 [==============================] - 0s 7ms/step - loss: 0.4347 - val_loss: 0.4691\n",
      "Epoch 10/50\n",
      "24/24 [==============================] - 0s 7ms/step - loss: 0.4301 - val_loss: 0.4631\n",
      "Epoch 11/50\n",
      "24/24 [==============================] - 0s 7ms/step - loss: 0.4226 - val_loss: 0.4797\n",
      "Epoch 12/50\n",
      "24/24 [==============================] - 0s 7ms/step - loss: 0.4199 - val_loss: 0.4726\n",
      "Epoch 13/50\n",
      "24/24 [==============================] - 0s 7ms/step - loss: 0.4247 - val_loss: 0.4709\n",
      "Epoch 14/50\n",
      "24/24 [==============================] - 0s 7ms/step - loss: 0.4106 - val_loss: 0.4720\n",
      "Epoch 15/50\n",
      "24/24 [==============================] - 0s 7ms/step - loss: 0.4098 - val_loss: 0.4537\n",
      "Epoch 16/50\n",
      "24/24 [==============================] - 0s 7ms/step - loss: 0.3999 - val_loss: 0.4635\n",
      "Epoch 17/50\n",
      "24/24 [==============================] - 0s 7ms/step - loss: 0.3962 - val_loss: 0.8300\n",
      "Epoch 18/50\n",
      "24/24 [==============================] - 0s 7ms/step - loss: 0.4329 - val_loss: 0.4338\n",
      "Epoch 19/50\n",
      "24/24 [==============================] - 0s 7ms/step - loss: 0.3905 - val_loss: 0.4348\n",
      "Epoch 20/50\n",
      "24/24 [==============================] - 0s 7ms/step - loss: 0.3892 - val_loss: 0.5332\n",
      "Epoch 21/50\n",
      "24/24 [==============================] - 0s 7ms/step - loss: 0.4017 - val_loss: 0.4397\n",
      "Epoch 22/50\n",
      "24/24 [==============================] - 0s 7ms/step - loss: 0.3822 - val_loss: 0.4306\n",
      "Epoch 23/50\n",
      "24/24 [==============================] - 0s 6ms/step - loss: 0.3801 - val_loss: 0.4268\n",
      "Epoch 24/50\n",
      "24/24 [==============================] - 0s 7ms/step - loss: 0.3759 - val_loss: 0.4336\n",
      "Epoch 25/50\n",
      "24/24 [==============================] - 0s 7ms/step - loss: 0.3753 - val_loss: 0.4333\n",
      "Epoch 26/50\n",
      "24/24 [==============================] - 0s 7ms/step - loss: 0.3765 - val_loss: 0.4296\n",
      "Epoch 27/50\n",
      "24/24 [==============================] - 0s 7ms/step - loss: 0.3727 - val_loss: 0.4157\n",
      "Epoch 28/50\n",
      "24/24 [==============================] - 0s 7ms/step - loss: 0.3681 - val_loss: 0.4248\n",
      "Epoch 29/50\n",
      "24/24 [==============================] - 0s 7ms/step - loss: 0.3691 - val_loss: 0.4266\n",
      "Epoch 30/50\n",
      "24/24 [==============================] - 0s 7ms/step - loss: 0.3643 - val_loss: 0.4048\n",
      "Epoch 31/50\n",
      "24/24 [==============================] - 0s 7ms/step - loss: 0.3609 - val_loss: 0.4338\n",
      "Epoch 32/50\n",
      "24/24 [==============================] - 0s 7ms/step - loss: 0.3596 - val_loss: 0.4112\n",
      "Epoch 33/50\n",
      "24/24 [==============================] - 0s 7ms/step - loss: 0.3672 - val_loss: 0.4172\n",
      "Epoch 34/50\n",
      "24/24 [==============================] - 0s 7ms/step - loss: 0.3583 - val_loss: 0.4055\n",
      "Epoch 35/50\n",
      "24/24 [==============================] - 0s 7ms/step - loss: 0.3555 - val_loss: 0.4427\n",
      "Epoch 36/50\n",
      "24/24 [==============================] - 0s 8ms/step - loss: 0.3531 - val_loss: 0.3991\n",
      "Epoch 37/50\n",
      "24/24 [==============================] - 0s 7ms/step - loss: 0.3558 - val_loss: 0.4313\n",
      "Epoch 38/50\n",
      "24/24 [==============================] - 0s 7ms/step - loss: 0.3518 - val_loss: 0.4023\n",
      "Epoch 39/50\n",
      "24/24 [==============================] - 0s 7ms/step - loss: 0.3550 - val_loss: 0.4062\n",
      "Epoch 40/50\n",
      "24/24 [==============================] - 0s 7ms/step - loss: 0.3488 - val_loss: 0.3933\n",
      "Epoch 41/50\n",
      "24/24 [==============================] - 0s 7ms/step - loss: 0.3479 - val_loss: 0.4036\n",
      "Epoch 42/50\n",
      "24/24 [==============================] - 0s 7ms/step - loss: 0.3493 - val_loss: 0.3965\n",
      "Epoch 43/50\n",
      "24/24 [==============================] - 0s 6ms/step - loss: 0.3453 - val_loss: 0.3899\n",
      "Epoch 44/50\n",
      "24/24 [==============================] - 0s 7ms/step - loss: 0.3453 - val_loss: 0.3879\n",
      "Epoch 45/50\n",
      "24/24 [==============================] - 0s 7ms/step - loss: 0.3425 - val_loss: 0.3960\n",
      "Epoch 46/50\n",
      "24/24 [==============================] - 0s 7ms/step - loss: 0.3408 - val_loss: 0.3995\n",
      "Epoch 47/50\n",
      "24/24 [==============================] - 0s 8ms/step - loss: 0.3391 - val_loss: 0.3903\n",
      "Epoch 48/50\n",
      "24/24 [==============================] - 0s 7ms/step - loss: 0.3393 - val_loss: 0.3891\n",
      "Epoch 49/50\n",
      "24/24 [==============================] - 0s 7ms/step - loss: 0.3445 - val_loss: 0.4199\n",
      "Epoch 50/50\n",
      "24/24 [==============================] - 0s 7ms/step - loss: 0.3393 - val_loss: 0.3910\n"
     ]
    }
   ],
   "source": [
    "history = wnd_model.fit([X_train_a,X_train_b],y_train,batch_size=500,epochs=50,validation_data=([X_valid_a,X_valid_b],y_valid))"
   ]
  },
  {
   "cell_type": "markdown",
   "id": "8919329d-8840-4fb3-8aa8-bef3595f6b82",
   "metadata": {},
   "source": [
    "### Learning Curve"
   ]
  },
  {
   "cell_type": "code",
   "execution_count": 66,
   "id": "972f824d-b72b-4c08-8704-27c344266fe7",
   "metadata": {},
   "outputs": [
    {
     "data": {
      "image/png": "[encoded data removed]",
      "text/plain": [
       "<Figure size 640x480 with 1 Axes>"
      ]
     },
     "metadata": {},
     "output_type": "display_data"
    }
   ],
   "source": [
    "nn_learning_curve(history,\"Wide & Deep MLP\")"
   ]
  },
  {
   "cell_type": "markdown",
   "id": "e3027dea-4aa2-4137-9b48-b747b1855a2b",
   "metadata": {},
   "source": [
    "### Test Evaluation"
   ]
  },
  {
   "cell_type": "code",
   "execution_count": 68,
   "id": "457e2c7c-2b37-4e5b-9998-7fe66b2137dd",
   "metadata": {},
   "outputs": [
    {
     "name": "stdout",
     "output_type": "stream",
     "text": [
      "162/162 [==============================] - 1s 4ms/step - loss: 0.3448\n"
     ]
    }
   ],
   "source": [
    "wnd_mse_test = wnd_model.evaluate([X_test_a,X_test_b],y_test)"
   ]
  },
  {
   "cell_type": "code",
   "execution_count": 69,
   "id": "1718b586-900a-47f9-a49d-bd2241e3dab1",
   "metadata": {},
   "outputs": [
    {
     "data": {
      "text/plain": [
       "0.5871796982730595"
      ]
     },
     "execution_count": 69,
     "metadata": {},
     "output_type": "execute_result"
    }
   ],
   "source": [
    "wnd_rmse_test = np.sqrt(wnd_mse_test)\n",
    "wnd_rmse_test"
   ]
  },
  {
   "cell_type": "markdown",
   "id": "cceb96f6-fc12-42cb-83f6-56bc4c997651",
   "metadata": {},
   "source": [
    "### Saving the Model"
   ]
  },
  {
   "cell_type": "code",
   "execution_count": 70,
   "id": "77a457d0-576d-4cda-a6b2-44a6f3b80211",
   "metadata": {},
   "outputs": [],
   "source": [
    "scores = {\n",
    "    \"MSE\":wnd_mse_test,\n",
    "    \"RMSE\":wnd_rmse_test\n",
    "}"
   ]
  },
  {
   "cell_type": "code",
   "execution_count": 71,
   "id": "386c32fd-4d90-4845-9801-e61633320b20",
   "metadata": {},
   "outputs": [
    {
     "name": "stdout",
     "output_type": "stream",
     "text": [
      "INFO:tensorflow:Assets written to: Trained Models\\2022-08-28_12-29-32_wnd_model\\assets\n"
     ]
    }
   ],
   "source": [
    "dump_keras_model(wnd_model,scores=scores)"
   ]
  },
  {
   "cell_type": "markdown",
   "id": "b8ac23d8-7d18-46b2-870e-d776be786e49",
   "metadata": {},
   "source": [
    "## Conclusion"
   ]
  },
  {
   "cell_type": "markdown",
   "id": "03ffa83a-2ff8-426e-8ef4-85adf18e9601",
   "metadata": {},
   "source": [
    "It doesn't seem like this approach helps any much in improving the prediction accuracy.\\\n",
    "It does improve by a bit but not that much.\\\n",
    "RMSE: 0.5872"
   ]
  }
 ],
 "metadata": {
  "kernelspec": {
   "display_name": "TensorFlow",
   "language": "python",
   "name": "tensorflow"
  },
  "language_info": {
   "codemirror_mode": {
    "name": "ipython",
    "version": 3
   },
   "file_extension": ".py",
   "mimetype": "text/x-python",
   "name": "python",
   "nbconvert_exporter": "python",
   "pygments_lexer": "ipython3",
   "version": "3.10.3"
  }
 },
 "nbformat": 4,
 "nbformat_minor": 5
}
