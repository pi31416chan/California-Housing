{
 "cells": [
  {
   "cell_type": "markdown",
   "id": "dcfc1443-da04-40c6-973e-97173a4e74f0",
   "metadata": {},
   "source": [
    "# California Housing"
   ]
  },
  {
   "cell_type": "markdown",
   "id": "fd5a5878-1f73-4ffd-b036-2fcbe009d96e",
   "metadata": {},
   "source": [
    "## Imports"
   ]
  },
  {
   "cell_type": "code",
   "execution_count": 106,
   "id": "ee928b81-11ba-499f-a214-482e98ba4ce4",
   "metadata": {},
   "outputs": [],
   "source": [
    "import numpy as np\n",
    "import pandas as pd\n",
    "import tensorflow as tf\n",
    "from tensorflow import keras\n",
    "import matplotlib.pyplot as plt\n",
    "%matplotlib inline\n",
    "import joblib\n",
    "from sklearn.datasets import fetch_california_housing\n",
    "from sklearn.model_selection import train_test_split\n",
    "from sklearn.preprocessing import StandardScaler\n",
    "from mltoolkit.utils import dump_keras_model"
   ]
  },
  {
   "cell_type": "markdown",
   "id": "03cdaca2-b44e-468a-9964-5d947e556e13",
   "metadata": {},
   "source": [
    "## Functions"
   ]
  },
  {
   "cell_type": "code",
   "execution_count": 41,
   "id": "f74f2286-db33-499e-b9ff-ddd44bd5705f",
   "metadata": {},
   "outputs": [],
   "source": [
    "def dump_csv(dic:dict,path:str=\"Datasets\\\\Raw Data\\\\\",**kwargs):\n",
    "    '''\n",
    "    Dump multiple 2d-arrays as CSV format at once.\n",
    "    '''\n",
    "    for filename,file in dic.items():\n",
    "        if type(file) is pd.DataFrame:\n",
    "            file.to_csv(path+filename+\".csv\",**kwargs)\n",
    "        elif type(file) is np.ndarray:\n",
    "            pd.DataFrame(file).to_csv(path+filename+\".csv\",**kwargs)\n",
    "        else:\n",
    "            raise TypeError(\"Only DataFrame and 2d-array are acceptable as the \" +\n",
    "                            \"content of the passed in dictionary.\")"
   ]
  },
  {
   "cell_type": "code",
   "execution_count": 102,
   "id": "a029c193-0093-4dc7-8acb-8912d5e5d550",
   "metadata": {},
   "outputs": [],
   "source": [
    "def nn_learning_curve(history,name:str=\"\"):\n",
    "    '''\n",
    "    Plot the learning curve from the history object returned from TensorFlow\n",
    "    Neural Networks model fitting.\n",
    "    '''\n",
    "    ylabel = '/'.join(list(history.history.keys())[:len(history.history)//2])\n",
    "    title = name+\" Learning Curve\" if name else \"Learning Curve\"\n",
    "    pd.DataFrame(history.history).plot(title=title,\n",
    "                                       xlabel=\"epoch\",\n",
    "                                       ylabel=ylabel)\n",
    "    plt.show()"
   ]
  },
  {
   "cell_type": "markdown",
   "id": "4dcc85ed-207e-4877-8567-11051151cbd8",
   "metadata": {},
   "source": [
    "## Loading Dataset"
   ]
  },
  {
   "cell_type": "code",
   "execution_count": 3,
   "id": "b2d8f4ac-0028-46b5-9aa4-1dfeaa2865a2",
   "metadata": {},
   "outputs": [],
   "source": [
    "housing_raw = fetch_california_housing()"
   ]
  },
  {
   "cell_type": "code",
   "execution_count": 7,
   "id": "743f079a-323b-4f69-a0aa-83717ee797a4",
   "metadata": {},
   "outputs": [],
   "source": [
    "X_train_raw,X_test,y_train_raw,y_test = train_test_split(housing_raw.data,housing_raw.target)"
   ]
  },
  {
   "cell_type": "code",
   "execution_count": 8,
   "id": "0f6670e7-86c2-478e-b130-094263fbf208",
   "metadata": {},
   "outputs": [],
   "source": [
    "X_train,X_valid,y_train,y_valid = train_test_split(X_train_raw,y_train_raw)"
   ]
  },
  {
   "cell_type": "code",
   "execution_count": 9,
   "id": "dd217110-619b-4c96-a850-b255825fc5a8",
   "metadata": {},
   "outputs": [
    {
     "data": {
      "text/plain": [
       "((11610, 8), (3870, 8), (5160, 8), (11610,), (3870,), (5160,))"
      ]
     },
     "execution_count": 9,
     "metadata": {},
     "output_type": "execute_result"
    }
   ],
   "source": [
    "X_train.shape,X_valid.shape,X_test.shape,y_train.shape,y_valid.shape,y_test.shape"
   ]
  },
  {
   "cell_type": "code",
   "execution_count": 10,
   "id": "428465ad-2c02-4e6d-b8c6-308b7da3898c",
   "metadata": {},
   "outputs": [],
   "source": [
    "scaler = StandardScaler()\n",
    "X_train = scaler.fit_transform(X_train)\n",
    "X_valid = scaler.transform(X_valid)\n",
    "X_test = scaler.transform(X_test)"
   ]
  },
  {
   "cell_type": "markdown",
   "id": "05c7faa6-4465-4479-9234-daf0be72ee17",
   "metadata": {},
   "source": [
    "### Saving Datasets"
   ]
  },
  {
   "cell_type": "code",
   "execution_count": 44,
   "id": "4766e0b3-ac5d-4be0-a402-4bd0ef276b50",
   "metadata": {},
   "outputs": [
    {
     "data": {
      "text/plain": [
       "['Datasets\\\\Raw Data\\\\housing_raw.pkl']"
      ]
     },
     "execution_count": 44,
     "metadata": {},
     "output_type": "execute_result"
    }
   ],
   "source": [
    "joblib.dump(housing_raw,\"Datasets\\\\Raw Data\\\\housing_raw.pkl\",compress=9)"
   ]
  },
  {
   "cell_type": "code",
   "execution_count": 43,
   "id": "0cdc27bf-105b-404d-bcc3-05ab4ecafda1",
   "metadata": {},
   "outputs": [],
   "source": [
    "csvs = {\n",
    "    \"X_train\":X_train,\n",
    "    \"X_valid\":X_valid,\n",
    "    \"X_test\":X_test,\n",
    "    \"y_train\":y_train,\n",
    "    \"y_valid\":y_valid,\n",
    "    \"y_test\":y_test,\n",
    "}\n",
    "dump_csv(csvs,index=False,encoding='utf-8')"
   ]
  },
  {
   "cell_type": "markdown",
   "id": "71983fb4-3b6e-4dc3-b3b8-2932d2b8e1a1",
   "metadata": {},
   "source": [
    "## First Insights"
   ]
  },
  {
   "cell_type": "code",
   "execution_count": 56,
   "id": "397da8e2-1e22-4c72-a097-9472f4384443",
   "metadata": {},
   "outputs": [
    {
     "name": "stdout",
     "output_type": "stream",
     "text": [
      ".. _california_housing_dataset:\n",
      "\n",
      "California Housing dataset\n",
      "--------------------------\n",
      "\n",
      "**Data Set Characteristics:**\n",
      "\n",
      "    :Number of Instances: 20640\n",
      "\n",
      "    :Number of Attributes: 8 numeric, predictive attributes and the target\n",
      "\n",
      "    :Attribute Information:\n",
      "        - MedInc        median income in block group\n",
      "        - HouseAge      median house age in block group\n",
      "        - AveRooms      average number of rooms per household\n",
      "        - AveBedrms     average number of bedrooms per household\n",
      "        - Population    block group population\n",
      "        - AveOccup      average number of household members\n",
      "        - Latitude      block group latitude\n",
      "        - Longitude     block group longitude\n",
      "\n",
      "    :Missing Attribute Values: None\n",
      "\n",
      "This dataset was obtained from the StatLib repository.\n",
      "https://www.dcc.fc.up.pt/~ltorgo/Regression/cal_housing.html\n",
      "\n",
      "The target variable is the median house value for California districts,\n",
      "expressed in hundreds of thousands of dollars ($100,000).\n",
      "\n",
      "This dataset was derived from the 1990 U.S. census, using one row per census\n",
      "block group. A block group is the smallest geographical unit for which the U.S.\n",
      "Census Bureau publishes sample data (a block group typically has a population\n",
      "of 600 to 3,000 people).\n",
      "\n",
      "An household is a group of people residing within a home. Since the average\n",
      "number of rooms and bedrooms in this dataset are provided per household, these\n",
      "columns may take surpinsingly large values for block groups with few households\n",
      "and many empty houses, such as vacation resorts.\n",
      "\n",
      "It can be downloaded/loaded using the\n",
      ":func:`sklearn.datasets.fetch_california_housing` function.\n",
      "\n",
      ".. topic:: References\n",
      "\n",
      "    - Pace, R. Kelley and Ronald Barry, Sparse Spatial Autoregressions,\n",
      "      Statistics and Probability Letters, 33 (1997) 291-297\n",
      "\n"
     ]
    }
   ],
   "source": [
    "print(housing_raw.DESCR)"
   ]
  },
  {
   "cell_type": "code",
   "execution_count": 54,
   "id": "96de0532-d9ba-4a48-a39e-5868f2365e88",
   "metadata": {},
   "outputs": [
    {
     "data": {
      "text/html": [
       "<div>\n",
       "<style scoped>\n",
       "    .dataframe tbody tr th:only-of-type {\n",
       "        vertical-align: middle;\n",
       "    }\n",
       "\n",
       "    .dataframe tbody tr th {\n",
       "        vertical-align: top;\n",
       "    }\n",
       "\n",
       "    .dataframe thead th {\n",
       "        text-align: right;\n",
       "    }\n",
       "</style>\n",
       "<table border=\"1\" class=\"dataframe\">\n",
       "  <thead>\n",
       "    <tr style=\"text-align: right;\">\n",
       "      <th></th>\n",
       "      <th>MedInc</th>\n",
       "      <th>HouseAge</th>\n",
       "      <th>AveRooms</th>\n",
       "      <th>AveBedrms</th>\n",
       "      <th>Population</th>\n",
       "      <th>AveOccup</th>\n",
       "      <th>Latitude</th>\n",
       "      <th>Longitude</th>\n",
       "      <th>MedHouseVal</th>\n",
       "    </tr>\n",
       "  </thead>\n",
       "  <tbody>\n",
       "    <tr>\n",
       "      <th>0</th>\n",
       "      <td>8.3252</td>\n",
       "      <td>41.0</td>\n",
       "      <td>6.984127</td>\n",
       "      <td>1.023810</td>\n",
       "      <td>322.0</td>\n",
       "      <td>2.555556</td>\n",
       "      <td>37.88</td>\n",
       "      <td>-122.23</td>\n",
       "      <td>4.526</td>\n",
       "    </tr>\n",
       "    <tr>\n",
       "      <th>1</th>\n",
       "      <td>8.3014</td>\n",
       "      <td>21.0</td>\n",
       "      <td>6.238137</td>\n",
       "      <td>0.971880</td>\n",
       "      <td>2401.0</td>\n",
       "      <td>2.109842</td>\n",
       "      <td>37.86</td>\n",
       "      <td>-122.22</td>\n",
       "      <td>3.585</td>\n",
       "    </tr>\n",
       "    <tr>\n",
       "      <th>2</th>\n",
       "      <td>7.2574</td>\n",
       "      <td>52.0</td>\n",
       "      <td>8.288136</td>\n",
       "      <td>1.073446</td>\n",
       "      <td>496.0</td>\n",
       "      <td>2.802260</td>\n",
       "      <td>37.85</td>\n",
       "      <td>-122.24</td>\n",
       "      <td>3.521</td>\n",
       "    </tr>\n",
       "    <tr>\n",
       "      <th>3</th>\n",
       "      <td>5.6431</td>\n",
       "      <td>52.0</td>\n",
       "      <td>5.817352</td>\n",
       "      <td>1.073059</td>\n",
       "      <td>558.0</td>\n",
       "      <td>2.547945</td>\n",
       "      <td>37.85</td>\n",
       "      <td>-122.25</td>\n",
       "      <td>3.413</td>\n",
       "    </tr>\n",
       "    <tr>\n",
       "      <th>4</th>\n",
       "      <td>3.8462</td>\n",
       "      <td>52.0</td>\n",
       "      <td>6.281853</td>\n",
       "      <td>1.081081</td>\n",
       "      <td>565.0</td>\n",
       "      <td>2.181467</td>\n",
       "      <td>37.85</td>\n",
       "      <td>-122.25</td>\n",
       "      <td>3.422</td>\n",
       "    </tr>\n",
       "  </tbody>\n",
       "</table>\n",
       "</div>"
      ],
      "text/plain": [
       "   MedInc  HouseAge  AveRooms  AveBedrms  Population  AveOccup  Latitude  \\\n",
       "0  8.3252      41.0  6.984127   1.023810       322.0  2.555556     37.88   \n",
       "1  8.3014      21.0  6.238137   0.971880      2401.0  2.109842     37.86   \n",
       "2  7.2574      52.0  8.288136   1.073446       496.0  2.802260     37.85   \n",
       "3  5.6431      52.0  5.817352   1.073059       558.0  2.547945     37.85   \n",
       "4  3.8462      52.0  6.281853   1.081081       565.0  2.181467     37.85   \n",
       "\n",
       "   Longitude  MedHouseVal  \n",
       "0    -122.23        4.526  \n",
       "1    -122.22        3.585  \n",
       "2    -122.24        3.521  \n",
       "3    -122.25        3.413  \n",
       "4    -122.25        3.422  "
      ]
     },
     "execution_count": 54,
     "metadata": {},
     "output_type": "execute_result"
    }
   ],
   "source": [
    "housing_df = pd.concat((pd.DataFrame(housing_raw.data,columns=housing_raw.feature_names),pd.DataFrame(housing_raw.target,columns=housing_raw.target_names)),axis=1)\n",
    "housing_df.head()"
   ]
  },
  {
   "cell_type": "code",
   "execution_count": 108,
   "id": "22ec3e96-a9a0-494d-abdc-0f42fc90bc33",
   "metadata": {},
   "outputs": [
    {
     "data": {
      "text/plain": [
       "2.068558169089147"
      ]
     },
     "execution_count": 108,
     "metadata": {},
     "output_type": "execute_result"
    }
   ],
   "source": [
    "housing_df.MedHouseVal.mean()"
   ]
  },
  {
   "cell_type": "code",
   "execution_count": 62,
   "id": "e99dbb42-68c6-4648-bd84-fd842a3fea3f",
   "metadata": {},
   "outputs": [
    {
     "data": {
      "text/html": [
       "<style type=\"text/css\">\n",
       "#T_96ec1_row0_col0, #T_96ec1_row1_col1, #T_96ec1_row2_col2, #T_96ec1_row3_col3, #T_96ec1_row4_col4, #T_96ec1_row5_col5, #T_96ec1_row6_col6, #T_96ec1_row7_col7, #T_96ec1_row8_col8 {\n",
       "  background-color: #023858;\n",
       "  color: #f1f1f1;\n",
       "}\n",
       "#T_96ec1_row0_col1 {\n",
       "  background-color: #eae6f1;\n",
       "  color: #000000;\n",
       "}\n",
       "#T_96ec1_row0_col2 {\n",
       "  background-color: #96b6d7;\n",
       "  color: #000000;\n",
       "}\n",
       "#T_96ec1_row0_col3, #T_96ec1_row2_col5, #T_96ec1_row3_col5 {\n",
       "  background-color: #fdf5fa;\n",
       "  color: #000000;\n",
       "}\n",
       "#T_96ec1_row0_col4 {\n",
       "  background-color: #d4d4e8;\n",
       "  color: #000000;\n",
       "}\n",
       "#T_96ec1_row0_col5 {\n",
       "  background-color: #f9f2f8;\n",
       "  color: #000000;\n",
       "}\n",
       "#T_96ec1_row0_col6 {\n",
       "  background-color: #8cb3d5;\n",
       "  color: #000000;\n",
       "}\n",
       "#T_96ec1_row0_col7 {\n",
       "  background-color: #80aed2;\n",
       "  color: #f1f1f1;\n",
       "}\n",
       "#T_96ec1_row0_col8 {\n",
       "  background-color: #0d75b3;\n",
       "  color: #f1f1f1;\n",
       "}\n",
       "#T_96ec1_row1_col0, #T_96ec1_row1_col2, #T_96ec1_row1_col3, #T_96ec1_row1_col4, #T_96ec1_row4_col1, #T_96ec1_row6_col7, #T_96ec1_row6_col8, #T_96ec1_row7_col6, #T_96ec1_row8_col5 {\n",
       "  background-color: #fff7fb;\n",
       "  color: #000000;\n",
       "}\n",
       "#T_96ec1_row1_col5 {\n",
       "  background-color: #faf2f8;\n",
       "  color: #000000;\n",
       "}\n",
       "#T_96ec1_row1_col6, #T_96ec1_row3_col7 {\n",
       "  background-color: #79abd0;\n",
       "  color: #f1f1f1;\n",
       "}\n",
       "#T_96ec1_row1_col7, #T_96ec1_row4_col6 {\n",
       "  background-color: #93b5d6;\n",
       "  color: #000000;\n",
       "}\n",
       "#T_96ec1_row1_col8 {\n",
       "  background-color: #d8d7e9;\n",
       "  color: #000000;\n",
       "}\n",
       "#T_96ec1_row2_col0 {\n",
       "  background-color: #9cb9d9;\n",
       "  color: #000000;\n",
       "}\n",
       "#T_96ec1_row2_col1, #T_96ec1_row4_col0 {\n",
       "  background-color: #eee9f3;\n",
       "  color: #000000;\n",
       "}\n",
       "#T_96ec1_row2_col3 {\n",
       "  background-color: #045d92;\n",
       "  color: #f1f1f1;\n",
       "}\n",
       "#T_96ec1_row2_col4 {\n",
       "  background-color: #e1dfed;\n",
       "  color: #000000;\n",
       "}\n",
       "#T_96ec1_row2_col6 {\n",
       "  background-color: #62a2cb;\n",
       "  color: #f1f1f1;\n",
       "}\n",
       "#T_96ec1_row2_col7 {\n",
       "  background-color: #81aed2;\n",
       "  color: #f1f1f1;\n",
       "}\n",
       "#T_96ec1_row2_col8 {\n",
       "  background-color: #cdd0e5;\n",
       "  color: #000000;\n",
       "}\n",
       "#T_96ec1_row3_col0 {\n",
       "  background-color: #f7f0f7;\n",
       "  color: #000000;\n",
       "}\n",
       "#T_96ec1_row3_col1 {\n",
       "  background-color: #e2dfee;\n",
       "  color: #000000;\n",
       "}\n",
       "#T_96ec1_row3_col2 {\n",
       "  background-color: #045b8e;\n",
       "  color: #f1f1f1;\n",
       "}\n",
       "#T_96ec1_row3_col4 {\n",
       "  background-color: #e0deed;\n",
       "  color: #000000;\n",
       "}\n",
       "#T_96ec1_row3_col6 {\n",
       "  background-color: #6ba5cd;\n",
       "  color: #f1f1f1;\n",
       "}\n",
       "#T_96ec1_row3_col8, #T_96ec1_row7_col3, #T_96ec1_row7_col8 {\n",
       "  background-color: #f2ecf5;\n",
       "  color: #000000;\n",
       "}\n",
       "#T_96ec1_row4_col2 {\n",
       "  background-color: #f5eef6;\n",
       "  color: #000000;\n",
       "}\n",
       "#T_96ec1_row4_col3 {\n",
       "  background-color: #fef6fa;\n",
       "  color: #000000;\n",
       "}\n",
       "#T_96ec1_row4_col5, #T_96ec1_row7_col0 {\n",
       "  background-color: #f1ebf5;\n",
       "  color: #000000;\n",
       "}\n",
       "#T_96ec1_row4_col7 {\n",
       "  background-color: #63a2cb;\n",
       "  color: #f1f1f1;\n",
       "}\n",
       "#T_96ec1_row4_col8, #T_96ec1_row5_col8 {\n",
       "  background-color: #f0eaf4;\n",
       "  color: #000000;\n",
       "}\n",
       "#T_96ec1_row5_col0 {\n",
       "  background-color: #ede7f2;\n",
       "  color: #000000;\n",
       "}\n",
       "#T_96ec1_row5_col1 {\n",
       "  background-color: #d2d3e7;\n",
       "  color: #000000;\n",
       "}\n",
       "#T_96ec1_row5_col2 {\n",
       "  background-color: #ece7f2;\n",
       "  color: #000000;\n",
       "}\n",
       "#T_96ec1_row5_col3 {\n",
       "  background-color: #f5eff6;\n",
       "  color: #000000;\n",
       "}\n",
       "#T_96ec1_row5_col4 {\n",
       "  background-color: #c5cce3;\n",
       "  color: #000000;\n",
       "}\n",
       "#T_96ec1_row5_col6, #T_96ec1_row5_col7 {\n",
       "  background-color: #7bacd1;\n",
       "  color: #f1f1f1;\n",
       "}\n",
       "#T_96ec1_row6_col0 {\n",
       "  background-color: #faf3f9;\n",
       "  color: #000000;\n",
       "}\n",
       "#T_96ec1_row6_col1 {\n",
       "  background-color: #d3d4e7;\n",
       "  color: #000000;\n",
       "}\n",
       "#T_96ec1_row6_col2 {\n",
       "  background-color: #d6d6e9;\n",
       "  color: #000000;\n",
       "}\n",
       "#T_96ec1_row6_col3 {\n",
       "  background-color: #e9e5f1;\n",
       "  color: #000000;\n",
       "}\n",
       "#T_96ec1_row6_col4, #T_96ec1_row7_col1 {\n",
       "  background-color: #e7e3f0;\n",
       "  color: #000000;\n",
       "}\n",
       "#T_96ec1_row6_col5, #T_96ec1_row7_col5 {\n",
       "  background-color: #fbf4f9;\n",
       "  color: #000000;\n",
       "}\n",
       "#T_96ec1_row7_col2 {\n",
       "  background-color: #efe9f3;\n",
       "  color: #000000;\n",
       "}\n",
       "#T_96ec1_row7_col4 {\n",
       "  background-color: #bdc8e1;\n",
       "  color: #000000;\n",
       "}\n",
       "#T_96ec1_row8_col0 {\n",
       "  background-color: #1077b4;\n",
       "  color: #f1f1f1;\n",
       "}\n",
       "#T_96ec1_row8_col1 {\n",
       "  background-color: #bcc7e1;\n",
       "  color: #000000;\n",
       "}\n",
       "#T_96ec1_row8_col2 {\n",
       "  background-color: #cccfe5;\n",
       "  color: #000000;\n",
       "}\n",
       "#T_96ec1_row8_col3 {\n",
       "  background-color: #fbf3f9;\n",
       "  color: #000000;\n",
       "}\n",
       "#T_96ec1_row8_col4 {\n",
       "  background-color: #d9d8ea;\n",
       "  color: #000000;\n",
       "}\n",
       "#T_96ec1_row8_col6 {\n",
       "  background-color: #9ab8d8;\n",
       "  color: #000000;\n",
       "}\n",
       "#T_96ec1_row8_col7 {\n",
       "  background-color: #86b0d3;\n",
       "  color: #000000;\n",
       "}\n",
       "</style>\n",
       "<table id=\"T_96ec1\">\n",
       "  <thead>\n",
       "    <tr>\n",
       "      <th class=\"blank level0\" >&nbsp;</th>\n",
       "      <th id=\"T_96ec1_level0_col0\" class=\"col_heading level0 col0\" >MedInc</th>\n",
       "      <th id=\"T_96ec1_level0_col1\" class=\"col_heading level0 col1\" >HouseAge</th>\n",
       "      <th id=\"T_96ec1_level0_col2\" class=\"col_heading level0 col2\" >AveRooms</th>\n",
       "      <th id=\"T_96ec1_level0_col3\" class=\"col_heading level0 col3\" >AveBedrms</th>\n",
       "      <th id=\"T_96ec1_level0_col4\" class=\"col_heading level0 col4\" >Population</th>\n",
       "      <th id=\"T_96ec1_level0_col5\" class=\"col_heading level0 col5\" >AveOccup</th>\n",
       "      <th id=\"T_96ec1_level0_col6\" class=\"col_heading level0 col6\" >Latitude</th>\n",
       "      <th id=\"T_96ec1_level0_col7\" class=\"col_heading level0 col7\" >Longitude</th>\n",
       "      <th id=\"T_96ec1_level0_col8\" class=\"col_heading level0 col8\" >MedHouseVal</th>\n",
       "    </tr>\n",
       "  </thead>\n",
       "  <tbody>\n",
       "    <tr>\n",
       "      <th id=\"T_96ec1_level0_row0\" class=\"row_heading level0 row0\" >MedInc</th>\n",
       "      <td id=\"T_96ec1_row0_col0\" class=\"data row0 col0\" >1.000000</td>\n",
       "      <td id=\"T_96ec1_row0_col1\" class=\"data row0 col1\" >-0.119034</td>\n",
       "      <td id=\"T_96ec1_row0_col2\" class=\"data row0 col2\" >0.326895</td>\n",
       "      <td id=\"T_96ec1_row0_col3\" class=\"data row0 col3\" >-0.062040</td>\n",
       "      <td id=\"T_96ec1_row0_col4\" class=\"data row0 col4\" >0.004834</td>\n",
       "      <td id=\"T_96ec1_row0_col5\" class=\"data row0 col5\" >0.018766</td>\n",
       "      <td id=\"T_96ec1_row0_col6\" class=\"data row0 col6\" >-0.079809</td>\n",
       "      <td id=\"T_96ec1_row0_col7\" class=\"data row0 col7\" >-0.015176</td>\n",
       "      <td id=\"T_96ec1_row0_col8\" class=\"data row0 col8\" >0.688075</td>\n",
       "    </tr>\n",
       "    <tr>\n",
       "      <th id=\"T_96ec1_level0_row1\" class=\"row_heading level0 row1\" >HouseAge</th>\n",
       "      <td id=\"T_96ec1_row1_col0\" class=\"data row1 col0\" >-0.119034</td>\n",
       "      <td id=\"T_96ec1_row1_col1\" class=\"data row1 col1\" >1.000000</td>\n",
       "      <td id=\"T_96ec1_row1_col2\" class=\"data row1 col2\" >-0.153277</td>\n",
       "      <td id=\"T_96ec1_row1_col3\" class=\"data row1 col3\" >-0.077747</td>\n",
       "      <td id=\"T_96ec1_row1_col4\" class=\"data row1 col4\" >-0.296244</td>\n",
       "      <td id=\"T_96ec1_row1_col5\" class=\"data row1 col5\" >0.013191</td>\n",
       "      <td id=\"T_96ec1_row1_col6\" class=\"data row1 col6\" >0.011173</td>\n",
       "      <td id=\"T_96ec1_row1_col7\" class=\"data row1 col7\" >-0.108197</td>\n",
       "      <td id=\"T_96ec1_row1_col8\" class=\"data row1 col8\" >0.105623</td>\n",
       "    </tr>\n",
       "    <tr>\n",
       "      <th id=\"T_96ec1_level0_row2\" class=\"row_heading level0 row2\" >AveRooms</th>\n",
       "      <td id=\"T_96ec1_row2_col0\" class=\"data row2 col0\" >0.326895</td>\n",
       "      <td id=\"T_96ec1_row2_col1\" class=\"data row2 col1\" >-0.153277</td>\n",
       "      <td id=\"T_96ec1_row2_col2\" class=\"data row2 col2\" >1.000000</td>\n",
       "      <td id=\"T_96ec1_row2_col3\" class=\"data row2 col3\" >0.847621</td>\n",
       "      <td id=\"T_96ec1_row2_col4\" class=\"data row2 col4\" >-0.072213</td>\n",
       "      <td id=\"T_96ec1_row2_col5\" class=\"data row2 col5\" >-0.004852</td>\n",
       "      <td id=\"T_96ec1_row2_col6\" class=\"data row2 col6\" >0.106389</td>\n",
       "      <td id=\"T_96ec1_row2_col7\" class=\"data row2 col7\" >-0.027540</td>\n",
       "      <td id=\"T_96ec1_row2_col8\" class=\"data row2 col8\" >0.151948</td>\n",
       "    </tr>\n",
       "    <tr>\n",
       "      <th id=\"T_96ec1_level0_row3\" class=\"row_heading level0 row3\" >AveBedrms</th>\n",
       "      <td id=\"T_96ec1_row3_col0\" class=\"data row3 col0\" >-0.062040</td>\n",
       "      <td id=\"T_96ec1_row3_col1\" class=\"data row3 col1\" >-0.077747</td>\n",
       "      <td id=\"T_96ec1_row3_col2\" class=\"data row3 col2\" >0.847621</td>\n",
       "      <td id=\"T_96ec1_row3_col3\" class=\"data row3 col3\" >1.000000</td>\n",
       "      <td id=\"T_96ec1_row3_col4\" class=\"data row3 col4\" >-0.066197</td>\n",
       "      <td id=\"T_96ec1_row3_col5\" class=\"data row3 col5\" >-0.006181</td>\n",
       "      <td id=\"T_96ec1_row3_col6\" class=\"data row3 col6\" >0.069721</td>\n",
       "      <td id=\"T_96ec1_row3_col7\" class=\"data row3 col7\" >0.013344</td>\n",
       "      <td id=\"T_96ec1_row3_col8\" class=\"data row3 col8\" >-0.046701</td>\n",
       "    </tr>\n",
       "    <tr>\n",
       "      <th id=\"T_96ec1_level0_row4\" class=\"row_heading level0 row4\" >Population</th>\n",
       "      <td id=\"T_96ec1_row4_col0\" class=\"data row4 col0\" >0.004834</td>\n",
       "      <td id=\"T_96ec1_row4_col1\" class=\"data row4 col1\" >-0.296244</td>\n",
       "      <td id=\"T_96ec1_row4_col2\" class=\"data row4 col2\" >-0.072213</td>\n",
       "      <td id=\"T_96ec1_row4_col3\" class=\"data row4 col3\" >-0.066197</td>\n",
       "      <td id=\"T_96ec1_row4_col4\" class=\"data row4 col4\" >1.000000</td>\n",
       "      <td id=\"T_96ec1_row4_col5\" class=\"data row4 col5\" >0.069863</td>\n",
       "      <td id=\"T_96ec1_row4_col6\" class=\"data row4 col6\" >-0.108785</td>\n",
       "      <td id=\"T_96ec1_row4_col7\" class=\"data row4 col7\" >0.099773</td>\n",
       "      <td id=\"T_96ec1_row4_col8\" class=\"data row4 col8\" >-0.024650</td>\n",
       "    </tr>\n",
       "    <tr>\n",
       "      <th id=\"T_96ec1_level0_row5\" class=\"row_heading level0 row5\" >AveOccup</th>\n",
       "      <td id=\"T_96ec1_row5_col0\" class=\"data row5 col0\" >0.018766</td>\n",
       "      <td id=\"T_96ec1_row5_col1\" class=\"data row5 col1\" >0.013191</td>\n",
       "      <td id=\"T_96ec1_row5_col2\" class=\"data row5 col2\" >-0.004852</td>\n",
       "      <td id=\"T_96ec1_row5_col3\" class=\"data row5 col3\" >-0.006181</td>\n",
       "      <td id=\"T_96ec1_row5_col4\" class=\"data row5 col4\" >0.069863</td>\n",
       "      <td id=\"T_96ec1_row5_col5\" class=\"data row5 col5\" >1.000000</td>\n",
       "      <td id=\"T_96ec1_row5_col6\" class=\"data row5 col6\" >0.002366</td>\n",
       "      <td id=\"T_96ec1_row5_col7\" class=\"data row5 col7\" >0.002476</td>\n",
       "      <td id=\"T_96ec1_row5_col8\" class=\"data row5 col8\" >-0.023737</td>\n",
       "    </tr>\n",
       "    <tr>\n",
       "      <th id=\"T_96ec1_level0_row6\" class=\"row_heading level0 row6\" >Latitude</th>\n",
       "      <td id=\"T_96ec1_row6_col0\" class=\"data row6 col0\" >-0.079809</td>\n",
       "      <td id=\"T_96ec1_row6_col1\" class=\"data row6 col1\" >0.011173</td>\n",
       "      <td id=\"T_96ec1_row6_col2\" class=\"data row6 col2\" >0.106389</td>\n",
       "      <td id=\"T_96ec1_row6_col3\" class=\"data row6 col3\" >0.069721</td>\n",
       "      <td id=\"T_96ec1_row6_col4\" class=\"data row6 col4\" >-0.108785</td>\n",
       "      <td id=\"T_96ec1_row6_col5\" class=\"data row6 col5\" >0.002366</td>\n",
       "      <td id=\"T_96ec1_row6_col6\" class=\"data row6 col6\" >1.000000</td>\n",
       "      <td id=\"T_96ec1_row6_col7\" class=\"data row6 col7\" >-0.924664</td>\n",
       "      <td id=\"T_96ec1_row6_col8\" class=\"data row6 col8\" >-0.144160</td>\n",
       "    </tr>\n",
       "    <tr>\n",
       "      <th id=\"T_96ec1_level0_row7\" class=\"row_heading level0 row7\" >Longitude</th>\n",
       "      <td id=\"T_96ec1_row7_col0\" class=\"data row7 col0\" >-0.015176</td>\n",
       "      <td id=\"T_96ec1_row7_col1\" class=\"data row7 col1\" >-0.108197</td>\n",
       "      <td id=\"T_96ec1_row7_col2\" class=\"data row7 col2\" >-0.027540</td>\n",
       "      <td id=\"T_96ec1_row7_col3\" class=\"data row7 col3\" >0.013344</td>\n",
       "      <td id=\"T_96ec1_row7_col4\" class=\"data row7 col4\" >0.099773</td>\n",
       "      <td id=\"T_96ec1_row7_col5\" class=\"data row7 col5\" >0.002476</td>\n",
       "      <td id=\"T_96ec1_row7_col6\" class=\"data row7 col6\" >-0.924664</td>\n",
       "      <td id=\"T_96ec1_row7_col7\" class=\"data row7 col7\" >1.000000</td>\n",
       "      <td id=\"T_96ec1_row7_col8\" class=\"data row7 col8\" >-0.045967</td>\n",
       "    </tr>\n",
       "    <tr>\n",
       "      <th id=\"T_96ec1_level0_row8\" class=\"row_heading level0 row8\" >MedHouseVal</th>\n",
       "      <td id=\"T_96ec1_row8_col0\" class=\"data row8 col0\" >0.688075</td>\n",
       "      <td id=\"T_96ec1_row8_col1\" class=\"data row8 col1\" >0.105623</td>\n",
       "      <td id=\"T_96ec1_row8_col2\" class=\"data row8 col2\" >0.151948</td>\n",
       "      <td id=\"T_96ec1_row8_col3\" class=\"data row8 col3\" >-0.046701</td>\n",
       "      <td id=\"T_96ec1_row8_col4\" class=\"data row8 col4\" >-0.024650</td>\n",
       "      <td id=\"T_96ec1_row8_col5\" class=\"data row8 col5\" >-0.023737</td>\n",
       "      <td id=\"T_96ec1_row8_col6\" class=\"data row8 col6\" >-0.144160</td>\n",
       "      <td id=\"T_96ec1_row8_col7\" class=\"data row8 col7\" >-0.045967</td>\n",
       "      <td id=\"T_96ec1_row8_col8\" class=\"data row8 col8\" >1.000000</td>\n",
       "    </tr>\n",
       "  </tbody>\n",
       "</table>\n"
      ],
      "text/plain": [
       "<pandas.io.formats.style.Styler at 0x215d7063fd0>"
      ]
     },
     "execution_count": 62,
     "metadata": {},
     "output_type": "execute_result"
    }
   ],
   "source": [
    "housing_df.corr().style.background_gradient()"
   ]
  },
  {
   "cell_type": "markdown",
   "id": "7cb706fc-ee73-4cb3-b714-f5123516f690",
   "metadata": {},
   "source": [
    "We can see that Median Income, House Age, Average Rooms holds positive relationship with Median Housing Price.\\\n",
    "While the rest desn't show much linear correlation."
   ]
  },
  {
   "cell_type": "markdown",
   "id": "d53013b8-9664-41ec-bdf6-808c39f5ec00",
   "metadata": {},
   "source": [
    "## MLP Regression Model"
   ]
  },
  {
   "cell_type": "code",
   "execution_count": 67,
   "id": "537a13b4-4665-4cf2-93ba-388204390ad3",
   "metadata": {},
   "outputs": [],
   "source": [
    "model = keras.Sequential([\n",
    "    keras.layers.Dense(30,activation='relu',input_shape=(X_train.shape[1:])),\n",
    "    keras.layers.Dense(1)\n",
    "])"
   ]
  },
  {
   "cell_type": "code",
   "execution_count": 73,
   "id": "fe867e15-92c3-41a8-bf8e-3f6b2b57fb62",
   "metadata": {},
   "outputs": [],
   "source": [
    "optimizer = keras.optimizers.SGD(learning_rate=0.1)\n",
    "model.compile(\n",
    "    loss='mean_squared_error',\n",
    "    metrics=['mean_squared_error'],\n",
    "    optimizer=optimizer\n",
    ")"
   ]
  },
  {
   "cell_type": "code",
   "execution_count": 74,
   "id": "6c972295-ddfc-4f1c-8cf8-2eeb5614231b",
   "metadata": {
    "scrolled": true,
    "tags": []
   },
   "outputs": [
    {
     "name": "stdout",
     "output_type": "stream",
     "text": [
      "Epoch 1/30\n",
      "24/24 [==============================] - 2s 13ms/step - loss: 0.9924 - mean_squared_error: 0.9924 - val_loss: 1.2237 - val_mean_squared_error: 1.2237\n",
      "Epoch 2/30\n",
      "24/24 [==============================] - 0s 7ms/step - loss: 0.9252 - mean_squared_error: 0.9252 - val_loss: 0.6952 - val_mean_squared_error: 0.6952\n",
      "Epoch 3/30\n",
      "24/24 [==============================] - 0s 7ms/step - loss: 0.5141 - mean_squared_error: 0.5141 - val_loss: 0.5074 - val_mean_squared_error: 0.5074\n",
      "Epoch 4/30\n",
      "24/24 [==============================] - 0s 7ms/step - loss: 0.4680 - mean_squared_error: 0.4680 - val_loss: 0.5151 - val_mean_squared_error: 0.5151\n",
      "Epoch 5/30\n",
      "24/24 [==============================] - 0s 7ms/step - loss: 0.4715 - mean_squared_error: 0.4715 - val_loss: 0.4646 - val_mean_squared_error: 0.4646\n",
      "Epoch 6/30\n",
      "24/24 [==============================] - 0s 7ms/step - loss: 0.4317 - mean_squared_error: 0.4317 - val_loss: 0.4618 - val_mean_squared_error: 0.4618\n",
      "Epoch 7/30\n",
      "24/24 [==============================] - 0s 7ms/step - loss: 0.4199 - mean_squared_error: 0.4199 - val_loss: 0.4382 - val_mean_squared_error: 0.4382\n",
      "Epoch 8/30\n",
      "24/24 [==============================] - 0s 7ms/step - loss: 0.4120 - mean_squared_error: 0.4120 - val_loss: 0.4512 - val_mean_squared_error: 0.4512\n",
      "Epoch 9/30\n",
      "24/24 [==============================] - 0s 7ms/step - loss: 0.4048 - mean_squared_error: 0.4048 - val_loss: 0.4278 - val_mean_squared_error: 0.4278\n",
      "Epoch 10/30\n",
      "24/24 [==============================] - 0s 7ms/step - loss: 0.3987 - mean_squared_error: 0.3987 - val_loss: 0.4246 - val_mean_squared_error: 0.4246\n",
      "Epoch 11/30\n",
      "24/24 [==============================] - 0s 7ms/step - loss: 0.4034 - mean_squared_error: 0.4034 - val_loss: 0.4325 - val_mean_squared_error: 0.4325\n",
      "Epoch 12/30\n",
      "24/24 [==============================] - 0s 6ms/step - loss: 0.3980 - mean_squared_error: 0.3980 - val_loss: 0.4268 - val_mean_squared_error: 0.4268\n",
      "Epoch 13/30\n",
      "24/24 [==============================] - 0s 6ms/step - loss: 0.3890 - mean_squared_error: 0.3890 - val_loss: 0.4185 - val_mean_squared_error: 0.4185\n",
      "Epoch 14/30\n",
      "24/24 [==============================] - 0s 7ms/step - loss: 0.3834 - mean_squared_error: 0.3834 - val_loss: 0.4120 - val_mean_squared_error: 0.4120\n",
      "Epoch 15/30\n",
      "24/24 [==============================] - 0s 7ms/step - loss: 0.3794 - mean_squared_error: 0.3794 - val_loss: 0.4133 - val_mean_squared_error: 0.4133\n",
      "Epoch 16/30\n",
      "24/24 [==============================] - 0s 7ms/step - loss: 0.3809 - mean_squared_error: 0.3809 - val_loss: 0.4222 - val_mean_squared_error: 0.4222\n",
      "Epoch 17/30\n",
      "24/24 [==============================] - 0s 8ms/step - loss: 0.3782 - mean_squared_error: 0.3782 - val_loss: 0.4037 - val_mean_squared_error: 0.4037\n",
      "Epoch 18/30\n",
      "24/24 [==============================] - 0s 7ms/step - loss: 0.3773 - mean_squared_error: 0.3773 - val_loss: 0.4342 - val_mean_squared_error: 0.4342\n",
      "Epoch 19/30\n",
      "24/24 [==============================] - 0s 7ms/step - loss: 0.3759 - mean_squared_error: 0.3759 - val_loss: 0.4056 - val_mean_squared_error: 0.4056\n",
      "Epoch 20/30\n",
      "24/24 [==============================] - 0s 7ms/step - loss: 0.3698 - mean_squared_error: 0.3698 - val_loss: 0.3994 - val_mean_squared_error: 0.3994\n",
      "Epoch 21/30\n",
      "24/24 [==============================] - 0s 7ms/step - loss: 0.3669 - mean_squared_error: 0.3669 - val_loss: 0.4069 - val_mean_squared_error: 0.4069\n",
      "Epoch 22/30\n",
      "24/24 [==============================] - 0s 7ms/step - loss: 0.3827 - mean_squared_error: 0.3827 - val_loss: 0.4171 - val_mean_squared_error: 0.4171\n",
      "Epoch 23/30\n",
      "24/24 [==============================] - 0s 7ms/step - loss: 0.5852 - mean_squared_error: 0.5852 - val_loss: 0.4195 - val_mean_squared_error: 0.4195\n",
      "Epoch 24/30\n",
      "24/24 [==============================] - 0s 7ms/step - loss: 0.3972 - mean_squared_error: 0.3972 - val_loss: 0.4210 - val_mean_squared_error: 0.4210\n",
      "Epoch 25/30\n",
      "24/24 [==============================] - 0s 7ms/step - loss: 0.3809 - mean_squared_error: 0.3809 - val_loss: 0.4159 - val_mean_squared_error: 0.4159\n",
      "Epoch 26/30\n",
      "24/24 [==============================] - 0s 7ms/step - loss: 0.3743 - mean_squared_error: 0.3743 - val_loss: 0.4176 - val_mean_squared_error: 0.4176\n",
      "Epoch 27/30\n",
      "24/24 [==============================] - 0s 7ms/step - loss: 0.4387 - mean_squared_error: 0.4387 - val_loss: 0.4281 - val_mean_squared_error: 0.4281\n",
      "Epoch 28/30\n",
      "24/24 [==============================] - 0s 7ms/step - loss: 0.3699 - mean_squared_error: 0.3699 - val_loss: 0.4033 - val_mean_squared_error: 0.4033\n",
      "Epoch 29/30\n",
      "24/24 [==============================] - 0s 7ms/step - loss: 0.3666 - mean_squared_error: 0.3666 - val_loss: 0.4146 - val_mean_squared_error: 0.4146\n",
      "Epoch 30/30\n",
      "24/24 [==============================] - 0s 7ms/step - loss: 0.3636 - mean_squared_error: 0.3636 - val_loss: 0.3958 - val_mean_squared_error: 0.3958\n"
     ]
    }
   ],
   "source": [
    "history = model.fit(X_train,y_train,epochs=30,batch_size=500,validation_data=(X_valid,y_valid))"
   ]
  },
  {
   "cell_type": "code",
   "execution_count": 101,
   "id": "6bf2cd79-013b-49ae-a1e8-ab56bb9556cc",
   "metadata": {},
   "outputs": [
    {
     "data": {
      "image/png": "[encoded data removed]",
      "text/plain": [
       "<Figure size 640x480 with 1 Axes>"
      ]
     },
     "metadata": {},
     "output_type": "display_data"
    }
   ],
   "source": [
    "nn_learning_curve(history,\"Housing MLP Regression\")"
   ]
  },
  {
   "cell_type": "markdown",
   "id": "be7fbff0-b618-4367-befc-088d65fabe2c",
   "metadata": {},
   "source": [
    "### Test Evaluation"
   ]
  },
  {
   "cell_type": "code",
   "execution_count": 103,
   "id": "e8f11dde-f130-4830-8779-0042b0371d50",
   "metadata": {},
   "outputs": [
    {
     "name": "stdout",
     "output_type": "stream",
     "text": [
      "162/162 [==============================] - 1s 4ms/step - loss: 0.3735 - mean_squared_error: 0.3735\n"
     ]
    },
    {
     "data": {
      "text/plain": [
       "[0.3735188841819763, 0.3735188841819763]"
      ]
     },
     "execution_count": 103,
     "metadata": {},
     "output_type": "execute_result"
    }
   ],
   "source": [
    "model.evaluate(X_test,y_test)"
   ]
  },
  {
   "cell_type": "code",
   "execution_count": 112,
   "id": "b9788ea5-da6e-4903-9050-8a726351ceab",
   "metadata": {},
   "outputs": [],
   "source": [
    "mse_test = Out[103][0]"
   ]
  },
  {
   "cell_type": "code",
   "execution_count": 114,
   "id": "f62d7c91-6be5-4689-9ecc-9afe584c2775",
   "metadata": {},
   "outputs": [
    {
     "data": {
      "text/plain": [
       "0.6111619132292001"
      ]
     },
     "execution_count": 114,
     "metadata": {},
     "output_type": "execute_result"
    }
   ],
   "source": [
    "rmse_test = np.sqrt(mse_test)\n",
    "rmse_test"
   ]
  },
  {
   "cell_type": "markdown",
   "id": "d58570ef-7cfe-4ec6-b5b9-050ae2c4d099",
   "metadata": {},
   "source": [
    "### Predictions"
   ]
  },
  {
   "cell_type": "code",
   "execution_count": 104,
   "id": "b845e275-be73-4224-9b2d-e1a895228699",
   "metadata": {},
   "outputs": [
    {
     "name": "stdout",
     "output_type": "stream",
     "text": [
      "1/1 [==============================] - 0s 76ms/step\n"
     ]
    },
    {
     "data": {
      "text/plain": [
       "array([[1.58763  ],\n",
       "       [2.4528127],\n",
       "       [1.2994392],\n",
       "       [2.4070058],\n",
       "       [2.0249162]], dtype=float32)"
      ]
     },
     "execution_count": 104,
     "metadata": {},
     "output_type": "execute_result"
    }
   ],
   "source": [
    "X_new = X_test[:5]\n",
    "y_pred = model.predict(X_new)\n",
    "y_pred"
   ]
  },
  {
   "cell_type": "code",
   "execution_count": 105,
   "id": "4fa5c3e3-7dcf-466e-aa71-4036e113b7c8",
   "metadata": {},
   "outputs": [
    {
     "data": {
      "text/plain": [
       "array([1.455, 2.431, 1.469, 2.356, 1.509])"
      ]
     },
     "execution_count": 105,
     "metadata": {},
     "output_type": "execute_result"
    }
   ],
   "source": [
    "y_test[:5]"
   ]
  },
  {
   "cell_type": "markdown",
   "id": "aa60e3b8-98e9-4eb6-96fd-017cf07f12e6",
   "metadata": {},
   "source": [
    "### Saving the Model"
   ]
  },
  {
   "cell_type": "code",
   "execution_count": 115,
   "id": "b22a4efd-8169-4322-9f83-2a57a9d76048",
   "metadata": {},
   "outputs": [],
   "source": [
    "scores = {\n",
    "    \"MSE\":mse_test,\n",
    "    \"RMSE\":rmse_test\n",
    "}"
   ]
  },
  {
   "cell_type": "code",
   "execution_count": 117,
   "id": "42bda034-224a-4b60-a272-038abc7a5b7d",
   "metadata": {},
   "outputs": [
    {
     "name": "stdout",
     "output_type": "stream",
     "text": [
      "INFO:tensorflow:Assets written to: Trained Models\\2022-08-28_10-18-29_sequential\\assets\n"
     ]
    }
   ],
   "source": [
    "dump_keras_model(model,scores=scores)"
   ]
  },
  {
   "cell_type": "markdown",
   "id": "c3598c2a-6440-4dad-8a04-39ee6c1772e7",
   "metadata": {},
   "source": [
    "## Conclusion"
   ]
  },
  {
   "cell_type": "markdown",
   "id": "22483ab6-1c99-46ee-9a87-0eaf93e5fe8d",
   "metadata": {},
   "source": [
    "The model does not perform as well as expected, there is rooms for improvement in prediction accuracy.\\\n",
    "Mean MedHouseVal: 2.0686\\\n",
    "RMSE: 0.6111\n",
    "\n",
    "This means that the predicted housing price is averagely about 30% off from the actual housing value.\\\n",
    "As we can notice that the train and validation loss are close together, it is likely that the model is somewhat underfitting the data.\\\n",
    "We can increase the complexity of the model (increasing layers, increasing neurons per layer, change activation functon, change loss function etc)."
   ]
  }
 ],
 "metadata": {
  "kernelspec": {
   "display_name": "TensorFlow",
   "language": "python",
   "name": "tensorflow"
  },
  "language_info": {
   "codemirror_mode": {
    "name": "ipython",
    "version": 3
   },
   "file_extension": ".py",
   "mimetype": "text/x-python",
   "name": "python",
   "nbconvert_exporter": "python",
   "pygments_lexer": "ipython3",
   "version": "3.10.3"
  }
 },
 "nbformat": 4,
 "nbformat_minor": 5
}
